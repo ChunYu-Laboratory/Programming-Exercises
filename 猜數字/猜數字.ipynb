{
 "cells": [
  {
   "cell_type": "code",
   "execution_count": null,
   "metadata": {},
   "outputs": [],
   "source": [
    "from random import randint"
   ]
  },
  {
   "cell_type": "code",
   "execution_count": null,
   "metadata": {
    "scrolled": false
   },
   "outputs": [],
   "source": [
    "print('<< 猜數字遊戲 >>')\n",
    "r1 = int(input('請輸入整數範圍起始值：'))\n",
    "r2 = int(input('請輸入整數範圍中止值：'))"
   ]
  },
  {
   "cell_type": "code",
   "execution_count": null,
   "metadata": {},
   "outputs": [],
   "source": [
    "x = randint(r1,r2)"
   ]
  },
  {
   "cell_type": "code",
   "execution_count": null,
   "metadata": {},
   "outputs": [],
   "source": [
    "i = int(input('請猜出電腦隨機產生之範圍內整數：'))\n",
    "count = 1\n",
    "while i != x:\n",
    "    print('作答次數：',count,sep='')\n",
    "    if i > x:\n",
    "        print('太大了')\n",
    "        print()\n",
    "        i = int(input('請再次輸入：'))\n",
    "    elif i < x:\n",
    "        print('太小了')\n",
    "        print()\n",
    "        i = int(input('請再次輸入：'))\n",
    "    count += 1\n",
    "print('作答次數：',count,sep='')\n",
    "print('答對了')"
   ]
  }
 ],
 "metadata": {
  "kernelspec": {
   "display_name": "Python 3",
   "language": "python",
   "name": "python3"
  },
  "language_info": {
   "codemirror_mode": {
    "name": "ipython",
    "version": 3
   },
   "file_extension": ".py",
   "mimetype": "text/x-python",
   "name": "python",
   "nbconvert_exporter": "python",
   "pygments_lexer": "ipython3",
   "version": "3.6.5"
  }
 },
 "nbformat": 4,
 "nbformat_minor": 2
}

{
 "cells": [
  {
   "cell_type": "code",
   "execution_count": null,
   "metadata": {
    "scrolled": true
   },
   "outputs": [],
   "source": [
    "print('<< 質數判斷程式 >>','\\n')\n",
    "n = int(input('請輸入整數：'))\n",
    "print()\n",
    "factor = []\n",
    "import math\n",
    "for x in range(2, math.ceil(n**0.5)+1):\n",
    "    if n % x == 0:\n",
    "        factor.append([x,n//x])\n",
    "if factor == []:\n",
    "    print(n, 'is a prime number')\n",
    "else:\n",
    "    print(n,'with the following factors','\\n')\n",
    "    print(factor)\n",
    "print()\n",
    "print('-----Finished-----')"
   ]
  }
 ],
 "metadata": {
  "kernelspec": {
   "display_name": "Python 3",
   "language": "python",
   "name": "python3"
  },
  "language_info": {
   "codemirror_mode": {
    "name": "ipython",
    "version": 3
   },
   "file_extension": ".py",
   "mimetype": "text/x-python",
   "name": "python",
   "nbconvert_exporter": "python",
   "pygments_lexer": "ipython3",
   "version": "3.6.5"
  }
 },
 "nbformat": 4,
 "nbformat_minor": 2
}
